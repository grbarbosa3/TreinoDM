{
 "cells": [
  {
   "cell_type": "markdown",
   "metadata": {
    "collapsed": true
   },
   "source": [
    "# DataFrames\n",
    "\n",
    "DataFrame é o elemeto mais importante dos Pandas e são diretamente inspirados pela linguagem de programação R. Podemos pensar em um DataFrame como um monte de objetos da série juntos para compartilhar o mesmo índice. Vamos usar Pandas para explorar esse tópico!"
   ]
  },
  {
   "cell_type": "code",
   "execution_count": 3,
   "metadata": {
    "collapsed": true
   },
   "outputs": [],
   "source": [
    "import pandas as pd\n",
    "import numpy as np"
   ]
  },
  {
   "cell_type": "code",
   "execution_count": 9,
   "metadata": {
    "collapsed": true
   },
   "outputs": [],
   "source": [
    "from numpy.random import randn\n",
    "np.random.seed(101)"
   ]
  },
  {
   "cell_type": "code",
   "execution_count": 14,
   "metadata": {
    "collapsed": true
   },
   "outputs": [],
   "source": [
    "df = pd.DataFrame(randn(5,4), index='A B C D E'.split(), columns='W X Y Z'.split())"
   ]
  },
  {
   "cell_type": "code",
   "execution_count": 21,
   "metadata": {},
   "outputs": [
    {
     "data": {
      "text/plain": "          W         X         Y         Z\nA -0.993263  0.196800 -1.136645  0.000366\nB  1.025984 -0.156598 -0.031579  0.649826\nC  2.154846 -0.610259 -0.755325 -0.346419\nD  0.147027 -0.479448  0.558769  1.024810\nE -0.925874  1.862864 -1.133817  0.610478",
      "text/html": "<div>\n<style scoped>\n    .dataframe tbody tr th:only-of-type {\n        vertical-align: middle;\n    }\n\n    .dataframe tbody tr th {\n        vertical-align: top;\n    }\n\n    .dataframe thead th {\n        text-align: right;\n    }\n</style>\n<table border=\"1\" class=\"dataframe\">\n  <thead>\n    <tr style=\"text-align: right;\">\n      <th></th>\n      <th>W</th>\n      <th>X</th>\n      <th>Y</th>\n      <th>Z</th>\n    </tr>\n  </thead>\n  <tbody>\n    <tr>\n      <th>A</th>\n      <td>-0.993263</td>\n      <td>0.196800</td>\n      <td>-1.136645</td>\n      <td>0.000366</td>\n    </tr>\n    <tr>\n      <th>B</th>\n      <td>1.025984</td>\n      <td>-0.156598</td>\n      <td>-0.031579</td>\n      <td>0.649826</td>\n    </tr>\n    <tr>\n      <th>C</th>\n      <td>2.154846</td>\n      <td>-0.610259</td>\n      <td>-0.755325</td>\n      <td>-0.346419</td>\n    </tr>\n    <tr>\n      <th>D</th>\n      <td>0.147027</td>\n      <td>-0.479448</td>\n      <td>0.558769</td>\n      <td>1.024810</td>\n    </tr>\n    <tr>\n      <th>E</th>\n      <td>-0.925874</td>\n      <td>1.862864</td>\n      <td>-1.133817</td>\n      <td>0.610478</td>\n    </tr>\n  </tbody>\n</table>\n</div>"
     },
     "execution_count": 21,
     "metadata": {},
     "output_type": "execute_result"
    }
   ],
   "source": [
    "df"
   ]
  },
  {
   "cell_type": "markdown",
   "metadata": {},
   "source": [
    "## Seleção e indexação\n",
    "\n",
    "Vamos aprender os vários métodos para pegar dados de um DataFrame"
   ]
  },
  {
   "cell_type": "code",
   "execution_count": 22,
   "metadata": {},
   "outputs": [
    {
     "data": {
      "text/plain": "A   -0.993263\nB    1.025984\nC    2.154846\nD    0.147027\nE   -0.925874\nName: W, dtype: float64"
     },
     "execution_count": 22,
     "metadata": {},
     "output_type": "execute_result"
    }
   ],
   "source": [
    "df['W']"
   ]
  },
  {
   "cell_type": "code",
   "execution_count": 23,
   "metadata": {},
   "outputs": [
    {
     "data": {
      "text/plain": "          W         Z\nA -0.993263  0.000366\nB  1.025984  0.649826\nC  2.154846 -0.346419\nD  0.147027  1.024810\nE -0.925874  0.610478",
      "text/html": "<div>\n<style scoped>\n    .dataframe tbody tr th:only-of-type {\n        vertical-align: middle;\n    }\n\n    .dataframe tbody tr th {\n        vertical-align: top;\n    }\n\n    .dataframe thead th {\n        text-align: right;\n    }\n</style>\n<table border=\"1\" class=\"dataframe\">\n  <thead>\n    <tr style=\"text-align: right;\">\n      <th></th>\n      <th>W</th>\n      <th>Z</th>\n    </tr>\n  </thead>\n  <tbody>\n    <tr>\n      <th>A</th>\n      <td>-0.993263</td>\n      <td>0.000366</td>\n    </tr>\n    <tr>\n      <th>B</th>\n      <td>1.025984</td>\n      <td>0.649826</td>\n    </tr>\n    <tr>\n      <th>C</th>\n      <td>2.154846</td>\n      <td>-0.346419</td>\n    </tr>\n    <tr>\n      <th>D</th>\n      <td>0.147027</td>\n      <td>1.024810</td>\n    </tr>\n    <tr>\n      <th>E</th>\n      <td>-0.925874</td>\n      <td>0.610478</td>\n    </tr>\n  </tbody>\n</table>\n</div>"
     },
     "execution_count": 23,
     "metadata": {},
     "output_type": "execute_result"
    }
   ],
   "source": [
    "# Passando uma lista com nomes das colunas\n",
    "df[['W','Z']]"
   ]
  },
  {
   "cell_type": "code",
   "execution_count": 24,
   "outputs": [
    {
     "data": {
      "text/plain": "          W         Z\nA -0.993263  0.000366\nB  1.025984  0.649826\nC  2.154846 -0.346419\nD  0.147027  1.024810\nE -0.925874  0.610478",
      "text/html": "<div>\n<style scoped>\n    .dataframe tbody tr th:only-of-type {\n        vertical-align: middle;\n    }\n\n    .dataframe tbody tr th {\n        vertical-align: top;\n    }\n\n    .dataframe thead th {\n        text-align: right;\n    }\n</style>\n<table border=\"1\" class=\"dataframe\">\n  <thead>\n    <tr style=\"text-align: right;\">\n      <th></th>\n      <th>W</th>\n      <th>Z</th>\n    </tr>\n  </thead>\n  <tbody>\n    <tr>\n      <th>A</th>\n      <td>-0.993263</td>\n      <td>0.000366</td>\n    </tr>\n    <tr>\n      <th>B</th>\n      <td>1.025984</td>\n      <td>0.649826</td>\n    </tr>\n    <tr>\n      <th>C</th>\n      <td>2.154846</td>\n      <td>-0.346419</td>\n    </tr>\n    <tr>\n      <th>D</th>\n      <td>0.147027</td>\n      <td>1.024810</td>\n    </tr>\n    <tr>\n      <th>E</th>\n      <td>-0.925874</td>\n      <td>0.610478</td>\n    </tr>\n  </tbody>\n</table>\n</div>"
     },
     "execution_count": 24,
     "metadata": {},
     "output_type": "execute_result"
    }
   ],
   "source": [
    "df['W Z'.split()]"
   ],
   "metadata": {
    "collapsed": false,
    "pycharm": {
     "name": "#%%\n"
    }
   }
  },
  {
   "cell_type": "code",
   "execution_count": 25,
   "metadata": {},
   "outputs": [
    {
     "data": {
      "text/plain": "A   -0.993263\nB    1.025984\nC    2.154846\nD    0.147027\nE   -0.925874\nName: W, dtype: float64"
     },
     "execution_count": 25,
     "metadata": {},
     "output_type": "execute_result"
    }
   ],
   "source": [
    "df.W"
   ]
  },
  {
   "cell_type": "markdown",
   "metadata": {},
   "source": [
    "As colunas dos DataFrames são Series"
   ]
  },
  {
   "cell_type": "code",
   "execution_count": 26,
   "metadata": {},
   "outputs": [
    {
     "data": {
      "text/plain": "pandas.core.series.Series"
     },
     "execution_count": 26,
     "metadata": {},
     "output_type": "execute_result"
    }
   ],
   "source": [
    "type(df['W'])"
   ]
  },
  {
   "cell_type": "markdown",
   "metadata": {},
   "source": [
    "**Criando uma coluna:**"
   ]
  },
  {
   "cell_type": "code",
   "execution_count": 27,
   "metadata": {
    "collapsed": true
   },
   "outputs": [],
   "source": [
    "df['new'] = df['W'] + df['Y']"
   ]
  },
  {
   "cell_type": "code",
   "execution_count": 28,
   "metadata": {},
   "outputs": [
    {
     "data": {
      "text/plain": "          W         X         Y         Z       new\nA -0.993263  0.196800 -1.136645  0.000366 -2.129908\nB  1.025984 -0.156598 -0.031579  0.649826  0.994405\nC  2.154846 -0.610259 -0.755325 -0.346419  1.399521\nD  0.147027 -0.479448  0.558769  1.024810  0.705796\nE -0.925874  1.862864 -1.133817  0.610478 -2.059691",
      "text/html": "<div>\n<style scoped>\n    .dataframe tbody tr th:only-of-type {\n        vertical-align: middle;\n    }\n\n    .dataframe tbody tr th {\n        vertical-align: top;\n    }\n\n    .dataframe thead th {\n        text-align: right;\n    }\n</style>\n<table border=\"1\" class=\"dataframe\">\n  <thead>\n    <tr style=\"text-align: right;\">\n      <th></th>\n      <th>W</th>\n      <th>X</th>\n      <th>Y</th>\n      <th>Z</th>\n      <th>new</th>\n    </tr>\n  </thead>\n  <tbody>\n    <tr>\n      <th>A</th>\n      <td>-0.993263</td>\n      <td>0.196800</td>\n      <td>-1.136645</td>\n      <td>0.000366</td>\n      <td>-2.129908</td>\n    </tr>\n    <tr>\n      <th>B</th>\n      <td>1.025984</td>\n      <td>-0.156598</td>\n      <td>-0.031579</td>\n      <td>0.649826</td>\n      <td>0.994405</td>\n    </tr>\n    <tr>\n      <th>C</th>\n      <td>2.154846</td>\n      <td>-0.610259</td>\n      <td>-0.755325</td>\n      <td>-0.346419</td>\n      <td>1.399521</td>\n    </tr>\n    <tr>\n      <th>D</th>\n      <td>0.147027</td>\n      <td>-0.479448</td>\n      <td>0.558769</td>\n      <td>1.024810</td>\n      <td>0.705796</td>\n    </tr>\n    <tr>\n      <th>E</th>\n      <td>-0.925874</td>\n      <td>1.862864</td>\n      <td>-1.133817</td>\n      <td>0.610478</td>\n      <td>-2.059691</td>\n    </tr>\n  </tbody>\n</table>\n</div>"
     },
     "execution_count": 28,
     "metadata": {},
     "output_type": "execute_result"
    }
   ],
   "source": [
    "df"
   ]
  },
  {
   "cell_type": "markdown",
   "metadata": {},
   "source": [
    "** Removendo colunas **"
   ]
  },
  {
   "cell_type": "code",
   "execution_count": 31,
   "metadata": {},
   "outputs": [
    {
     "data": {
      "text/plain": "          W         X         Y         Z\nA -0.993263  0.196800 -1.136645  0.000366\nB  1.025984 -0.156598 -0.031579  0.649826\nC  2.154846 -0.610259 -0.755325 -0.346419\nD  0.147027 -0.479448  0.558769  1.024810\nE -0.925874  1.862864 -1.133817  0.610478",
      "text/html": "<div>\n<style scoped>\n    .dataframe tbody tr th:only-of-type {\n        vertical-align: middle;\n    }\n\n    .dataframe tbody tr th {\n        vertical-align: top;\n    }\n\n    .dataframe thead th {\n        text-align: right;\n    }\n</style>\n<table border=\"1\" class=\"dataframe\">\n  <thead>\n    <tr style=\"text-align: right;\">\n      <th></th>\n      <th>W</th>\n      <th>X</th>\n      <th>Y</th>\n      <th>Z</th>\n    </tr>\n  </thead>\n  <tbody>\n    <tr>\n      <th>A</th>\n      <td>-0.993263</td>\n      <td>0.196800</td>\n      <td>-1.136645</td>\n      <td>0.000366</td>\n    </tr>\n    <tr>\n      <th>B</th>\n      <td>1.025984</td>\n      <td>-0.156598</td>\n      <td>-0.031579</td>\n      <td>0.649826</td>\n    </tr>\n    <tr>\n      <th>C</th>\n      <td>2.154846</td>\n      <td>-0.610259</td>\n      <td>-0.755325</td>\n      <td>-0.346419</td>\n    </tr>\n    <tr>\n      <th>D</th>\n      <td>0.147027</td>\n      <td>-0.479448</td>\n      <td>0.558769</td>\n      <td>1.024810</td>\n    </tr>\n    <tr>\n      <th>E</th>\n      <td>-0.925874</td>\n      <td>1.862864</td>\n      <td>-1.133817</td>\n      <td>0.610478</td>\n    </tr>\n  </tbody>\n</table>\n</div>"
     },
     "execution_count": 31,
     "metadata": {},
     "output_type": "execute_result"
    }
   ],
   "source": [
    "df.drop('new', axis=1)"
   ]
  },
  {
   "cell_type": "code",
   "metadata": {
    "pycharm": {
     "name": "#%%\n"
    }
   },
   "source": [
    "# Porém, tal exclusão só ocorrerá se especificada no parâmetro inplace\n",
    "df"
   ],
   "execution_count": 32,
   "outputs": [
    {
     "data": {
      "text/plain": "          W         X         Y         Z       new\nA -0.993263  0.196800 -1.136645  0.000366 -2.129908\nB  1.025984 -0.156598 -0.031579  0.649826  0.994405\nC  2.154846 -0.610259 -0.755325 -0.346419  1.399521\nD  0.147027 -0.479448  0.558769  1.024810  0.705796\nE -0.925874  1.862864 -1.133817  0.610478 -2.059691",
      "text/html": "<div>\n<style scoped>\n    .dataframe tbody tr th:only-of-type {\n        vertical-align: middle;\n    }\n\n    .dataframe tbody tr th {\n        vertical-align: top;\n    }\n\n    .dataframe thead th {\n        text-align: right;\n    }\n</style>\n<table border=\"1\" class=\"dataframe\">\n  <thead>\n    <tr style=\"text-align: right;\">\n      <th></th>\n      <th>W</th>\n      <th>X</th>\n      <th>Y</th>\n      <th>Z</th>\n      <th>new</th>\n    </tr>\n  </thead>\n  <tbody>\n    <tr>\n      <th>A</th>\n      <td>-0.993263</td>\n      <td>0.196800</td>\n      <td>-1.136645</td>\n      <td>0.000366</td>\n      <td>-2.129908</td>\n    </tr>\n    <tr>\n      <th>B</th>\n      <td>1.025984</td>\n      <td>-0.156598</td>\n      <td>-0.031579</td>\n      <td>0.649826</td>\n      <td>0.994405</td>\n    </tr>\n    <tr>\n      <th>C</th>\n      <td>2.154846</td>\n      <td>-0.610259</td>\n      <td>-0.755325</td>\n      <td>-0.346419</td>\n      <td>1.399521</td>\n    </tr>\n    <tr>\n      <th>D</th>\n      <td>0.147027</td>\n      <td>-0.479448</td>\n      <td>0.558769</td>\n      <td>1.024810</td>\n      <td>0.705796</td>\n    </tr>\n    <tr>\n      <th>E</th>\n      <td>-0.925874</td>\n      <td>1.862864</td>\n      <td>-1.133817</td>\n      <td>0.610478</td>\n      <td>-2.059691</td>\n    </tr>\n  </tbody>\n</table>\n</div>"
     },
     "execution_count": 32,
     "metadata": {},
     "output_type": "execute_result"
    }
   ]
  },
  {
   "cell_type": "code",
   "execution_count": 33,
   "metadata": {
    "collapsed": true
   },
   "outputs": [],
   "source": [
    "df.drop('new',axis=1,inplace=True)"
   ]
  },
  {
   "cell_type": "code",
   "execution_count": 34,
   "metadata": {},
   "outputs": [
    {
     "data": {
      "text/plain": "          W         X         Y         Z\nA -0.993263  0.196800 -1.136645  0.000366\nB  1.025984 -0.156598 -0.031579  0.649826\nC  2.154846 -0.610259 -0.755325 -0.346419\nD  0.147027 -0.479448  0.558769  1.024810\nE -0.925874  1.862864 -1.133817  0.610478",
      "text/html": "<div>\n<style scoped>\n    .dataframe tbody tr th:only-of-type {\n        vertical-align: middle;\n    }\n\n    .dataframe tbody tr th {\n        vertical-align: top;\n    }\n\n    .dataframe thead th {\n        text-align: right;\n    }\n</style>\n<table border=\"1\" class=\"dataframe\">\n  <thead>\n    <tr style=\"text-align: right;\">\n      <th></th>\n      <th>W</th>\n      <th>X</th>\n      <th>Y</th>\n      <th>Z</th>\n    </tr>\n  </thead>\n  <tbody>\n    <tr>\n      <th>A</th>\n      <td>-0.993263</td>\n      <td>0.196800</td>\n      <td>-1.136645</td>\n      <td>0.000366</td>\n    </tr>\n    <tr>\n      <th>B</th>\n      <td>1.025984</td>\n      <td>-0.156598</td>\n      <td>-0.031579</td>\n      <td>0.649826</td>\n    </tr>\n    <tr>\n      <th>C</th>\n      <td>2.154846</td>\n      <td>-0.610259</td>\n      <td>-0.755325</td>\n      <td>-0.346419</td>\n    </tr>\n    <tr>\n      <th>D</th>\n      <td>0.147027</td>\n      <td>-0.479448</td>\n      <td>0.558769</td>\n      <td>1.024810</td>\n    </tr>\n    <tr>\n      <th>E</th>\n      <td>-0.925874</td>\n      <td>1.862864</td>\n      <td>-1.133817</td>\n      <td>0.610478</td>\n    </tr>\n  </tbody>\n</table>\n</div>"
     },
     "execution_count": 34,
     "metadata": {},
     "output_type": "execute_result"
    }
   ],
   "source": [
    "df"
   ]
  },
  {
   "cell_type": "markdown",
   "metadata": {},
   "source": [
    "Também podemos deletar colunas desta forma:"
   ]
  },
  {
   "cell_type": "code",
   "execution_count": 36,
   "metadata": {},
   "outputs": [
    {
     "data": {
      "text/plain": "          W         X         Y         Z\nA -0.993263  0.196800 -1.136645  0.000366\nB  1.025984 -0.156598 -0.031579  0.649826\nC  2.154846 -0.610259 -0.755325 -0.346419\nD  0.147027 -0.479448  0.558769  1.024810",
      "text/html": "<div>\n<style scoped>\n    .dataframe tbody tr th:only-of-type {\n        vertical-align: middle;\n    }\n\n    .dataframe tbody tr th {\n        vertical-align: top;\n    }\n\n    .dataframe thead th {\n        text-align: right;\n    }\n</style>\n<table border=\"1\" class=\"dataframe\">\n  <thead>\n    <tr style=\"text-align: right;\">\n      <th></th>\n      <th>W</th>\n      <th>X</th>\n      <th>Y</th>\n      <th>Z</th>\n    </tr>\n  </thead>\n  <tbody>\n    <tr>\n      <th>A</th>\n      <td>-0.993263</td>\n      <td>0.196800</td>\n      <td>-1.136645</td>\n      <td>0.000366</td>\n    </tr>\n    <tr>\n      <th>B</th>\n      <td>1.025984</td>\n      <td>-0.156598</td>\n      <td>-0.031579</td>\n      <td>0.649826</td>\n    </tr>\n    <tr>\n      <th>C</th>\n      <td>2.154846</td>\n      <td>-0.610259</td>\n      <td>-0.755325</td>\n      <td>-0.346419</td>\n    </tr>\n    <tr>\n      <th>D</th>\n      <td>0.147027</td>\n      <td>-0.479448</td>\n      <td>0.558769</td>\n      <td>1.024810</td>\n    </tr>\n  </tbody>\n</table>\n</div>"
     },
     "execution_count": 36,
     "metadata": {},
     "output_type": "execute_result"
    }
   ],
   "source": [
    "df.drop('E',axis=0)"
   ]
  },
  {
   "cell_type": "markdown",
   "metadata": {},
   "source": [
    "**Selecionando linhas:**"
   ]
  },
  {
   "cell_type": "code",
   "execution_count": 40,
   "metadata": {},
   "outputs": [
    {
     "data": {
      "text/plain": "W   -0.993263\nX    0.196800\nY   -1.136645\nZ    0.000366\nName: A, dtype: float64"
     },
     "execution_count": 40,
     "metadata": {},
     "output_type": "execute_result"
    }
   ],
   "source": [
    "df.loc['A']"
   ]
  },
  {
   "cell_type": "markdown",
   "metadata": {},
   "source": [
    "Ou selecione com base na posição em vez do rótulo"
   ]
  },
  {
   "cell_type": "code",
   "execution_count": 48,
   "metadata": {},
   "outputs": [
    {
     "data": {
      "text/plain": "W    2.154846\nX   -0.610259\nY   -0.755325\nZ   -0.346419\nName: C, dtype: float64"
     },
     "execution_count": 48,
     "metadata": {},
     "output_type": "execute_result"
    }
   ],
   "source": [
    "df.iloc[2]"
   ]
  },
  {
   "cell_type": "markdown",
   "metadata": {},
   "source": [
    "**Selecionando o subconjunto de linhas e colunas**"
   ]
  },
  {
   "cell_type": "code",
   "execution_count": 44,
   "metadata": {},
   "outputs": [
    {
     "data": {
      "text/plain": "-0.031579143908112575"
     },
     "execution_count": 44,
     "metadata": {},
     "output_type": "execute_result"
    }
   ],
   "source": [
    "df.loc['B','Y']"
   ]
  },
  {
   "cell_type": "code",
   "execution_count": 45,
   "metadata": {},
   "outputs": [
    {
     "data": {
      "text/plain": "          W         Y\nA -0.993263 -1.136645\nB  1.025984 -0.031579",
      "text/html": "<div>\n<style scoped>\n    .dataframe tbody tr th:only-of-type {\n        vertical-align: middle;\n    }\n\n    .dataframe tbody tr th {\n        vertical-align: top;\n    }\n\n    .dataframe thead th {\n        text-align: right;\n    }\n</style>\n<table border=\"1\" class=\"dataframe\">\n  <thead>\n    <tr style=\"text-align: right;\">\n      <th></th>\n      <th>W</th>\n      <th>Y</th>\n    </tr>\n  </thead>\n  <tbody>\n    <tr>\n      <th>A</th>\n      <td>-0.993263</td>\n      <td>-1.136645</td>\n    </tr>\n    <tr>\n      <th>B</th>\n      <td>1.025984</td>\n      <td>-0.031579</td>\n    </tr>\n  </tbody>\n</table>\n</div>"
     },
     "execution_count": 45,
     "metadata": {},
     "output_type": "execute_result"
    }
   ],
   "source": [
    "df.loc[['A','B'],['W','Y']]"
   ]
  },
  {
   "cell_type": "markdown",
   "metadata": {},
   "source": [
    "### Seleção condicional\n",
    "\n",
    "Uma característica importante dos pandas é a seleção condicional usando notação de colchetes, muito semelhante ao numpy:"
   ]
  },
  {
   "cell_type": "code",
   "execution_count": 49,
   "metadata": {},
   "outputs": [
    {
     "data": {
      "text/plain": "          W         X         Y         Z\nA -0.993263  0.196800 -1.136645  0.000366\nB  1.025984 -0.156598 -0.031579  0.649826\nC  2.154846 -0.610259 -0.755325 -0.346419\nD  0.147027 -0.479448  0.558769  1.024810\nE -0.925874  1.862864 -1.133817  0.610478",
      "text/html": "<div>\n<style scoped>\n    .dataframe tbody tr th:only-of-type {\n        vertical-align: middle;\n    }\n\n    .dataframe tbody tr th {\n        vertical-align: top;\n    }\n\n    .dataframe thead th {\n        text-align: right;\n    }\n</style>\n<table border=\"1\" class=\"dataframe\">\n  <thead>\n    <tr style=\"text-align: right;\">\n      <th></th>\n      <th>W</th>\n      <th>X</th>\n      <th>Y</th>\n      <th>Z</th>\n    </tr>\n  </thead>\n  <tbody>\n    <tr>\n      <th>A</th>\n      <td>-0.993263</td>\n      <td>0.196800</td>\n      <td>-1.136645</td>\n      <td>0.000366</td>\n    </tr>\n    <tr>\n      <th>B</th>\n      <td>1.025984</td>\n      <td>-0.156598</td>\n      <td>-0.031579</td>\n      <td>0.649826</td>\n    </tr>\n    <tr>\n      <th>C</th>\n      <td>2.154846</td>\n      <td>-0.610259</td>\n      <td>-0.755325</td>\n      <td>-0.346419</td>\n    </tr>\n    <tr>\n      <th>D</th>\n      <td>0.147027</td>\n      <td>-0.479448</td>\n      <td>0.558769</td>\n      <td>1.024810</td>\n    </tr>\n    <tr>\n      <th>E</th>\n      <td>-0.925874</td>\n      <td>1.862864</td>\n      <td>-1.133817</td>\n      <td>0.610478</td>\n    </tr>\n  </tbody>\n</table>\n</div>"
     },
     "execution_count": 49,
     "metadata": {},
     "output_type": "execute_result"
    }
   ],
   "source": [
    "df"
   ]
  },
  {
   "cell_type": "code",
   "execution_count": 59,
   "metadata": {},
   "outputs": [
    {
     "data": {
      "text/plain": "A    False\nB     True\nC     True\nD     True\nE    False\nName: W, dtype: bool"
     },
     "execution_count": 59,
     "metadata": {},
     "output_type": "execute_result"
    }
   ],
   "source": [
    "df['W'] > 0"
   ]
  },
  {
   "cell_type": "code",
   "execution_count": 58,
   "metadata": {},
   "outputs": [
    {
     "data": {
      "text/plain": "          W         X         Y         Z\nA       NaN  0.196800       NaN  0.000366\nB  1.025984       NaN       NaN  0.649826\nC  2.154846       NaN       NaN       NaN\nD  0.147027       NaN  0.558769  1.024810\nE       NaN  1.862864       NaN  0.610478",
      "text/html": "<div>\n<style scoped>\n    .dataframe tbody tr th:only-of-type {\n        vertical-align: middle;\n    }\n\n    .dataframe tbody tr th {\n        vertical-align: top;\n    }\n\n    .dataframe thead th {\n        text-align: right;\n    }\n</style>\n<table border=\"1\" class=\"dataframe\">\n  <thead>\n    <tr style=\"text-align: right;\">\n      <th></th>\n      <th>W</th>\n      <th>X</th>\n      <th>Y</th>\n      <th>Z</th>\n    </tr>\n  </thead>\n  <tbody>\n    <tr>\n      <th>A</th>\n      <td>NaN</td>\n      <td>0.196800</td>\n      <td>NaN</td>\n      <td>0.000366</td>\n    </tr>\n    <tr>\n      <th>B</th>\n      <td>1.025984</td>\n      <td>NaN</td>\n      <td>NaN</td>\n      <td>0.649826</td>\n    </tr>\n    <tr>\n      <th>C</th>\n      <td>2.154846</td>\n      <td>NaN</td>\n      <td>NaN</td>\n      <td>NaN</td>\n    </tr>\n    <tr>\n      <th>D</th>\n      <td>0.147027</td>\n      <td>NaN</td>\n      <td>0.558769</td>\n      <td>1.024810</td>\n    </tr>\n    <tr>\n      <th>E</th>\n      <td>NaN</td>\n      <td>1.862864</td>\n      <td>NaN</td>\n      <td>0.610478</td>\n    </tr>\n  </tbody>\n</table>\n</div>"
     },
     "execution_count": 58,
     "metadata": {},
     "output_type": "execute_result"
    }
   ],
   "source": [
    "df[df > 0]"
   ]
  },
  {
   "cell_type": "code",
   "execution_count": 62,
   "metadata": {},
   "outputs": [
    {
     "data": {
      "text/plain": "          W         X         Y         Z\nB  1.025984 -0.156598 -0.031579  0.649826\nC  2.154846 -0.610259 -0.755325 -0.346419\nD  0.147027 -0.479448  0.558769  1.024810",
      "text/html": "<div>\n<style scoped>\n    .dataframe tbody tr th:only-of-type {\n        vertical-align: middle;\n    }\n\n    .dataframe tbody tr th {\n        vertical-align: top;\n    }\n\n    .dataframe thead th {\n        text-align: right;\n    }\n</style>\n<table border=\"1\" class=\"dataframe\">\n  <thead>\n    <tr style=\"text-align: right;\">\n      <th></th>\n      <th>W</th>\n      <th>X</th>\n      <th>Y</th>\n      <th>Z</th>\n    </tr>\n  </thead>\n  <tbody>\n    <tr>\n      <th>B</th>\n      <td>1.025984</td>\n      <td>-0.156598</td>\n      <td>-0.031579</td>\n      <td>0.649826</td>\n    </tr>\n    <tr>\n      <th>C</th>\n      <td>2.154846</td>\n      <td>-0.610259</td>\n      <td>-0.755325</td>\n      <td>-0.346419</td>\n    </tr>\n    <tr>\n      <th>D</th>\n      <td>0.147027</td>\n      <td>-0.479448</td>\n      <td>0.558769</td>\n      <td>1.024810</td>\n    </tr>\n  </tbody>\n</table>\n</div>"
     },
     "execution_count": 62,
     "metadata": {},
     "output_type": "execute_result"
    }
   ],
   "source": [
    "df[df['W'] > 0]"
   ]
  },
  {
   "cell_type": "code",
   "execution_count": 61,
   "outputs": [
    {
     "data": {
      "text/plain": "          W         X         Y         Z\nB  1.025984 -0.156598 -0.031579  0.649826\nC  2.154846 -0.610259 -0.755325 -0.346419\nD  0.147027 -0.479448  0.558769  1.024810",
      "text/html": "<div>\n<style scoped>\n    .dataframe tbody tr th:only-of-type {\n        vertical-align: middle;\n    }\n\n    .dataframe tbody tr th {\n        vertical-align: top;\n    }\n\n    .dataframe thead th {\n        text-align: right;\n    }\n</style>\n<table border=\"1\" class=\"dataframe\">\n  <thead>\n    <tr style=\"text-align: right;\">\n      <th></th>\n      <th>W</th>\n      <th>X</th>\n      <th>Y</th>\n      <th>Z</th>\n    </tr>\n  </thead>\n  <tbody>\n    <tr>\n      <th>B</th>\n      <td>1.025984</td>\n      <td>-0.156598</td>\n      <td>-0.031579</td>\n      <td>0.649826</td>\n    </tr>\n    <tr>\n      <th>C</th>\n      <td>2.154846</td>\n      <td>-0.610259</td>\n      <td>-0.755325</td>\n      <td>-0.346419</td>\n    </tr>\n    <tr>\n      <th>D</th>\n      <td>0.147027</td>\n      <td>-0.479448</td>\n      <td>0.558769</td>\n      <td>1.024810</td>\n    </tr>\n  </tbody>\n</table>\n</div>"
     },
     "execution_count": 61,
     "metadata": {},
     "output_type": "execute_result"
    }
   ],
   "source": [
    "df.query('W > 0')"
   ],
   "metadata": {
    "collapsed": false,
    "pycharm": {
     "name": "#%%\n"
    }
   }
  },
  {
   "cell_type": "code",
   "execution_count": 63,
   "metadata": {},
   "outputs": [
    {
     "data": {
      "text/plain": "B   -0.031579\nC   -0.755325\nD    0.558769\nName: Y, dtype: float64"
     },
     "execution_count": 63,
     "metadata": {},
     "output_type": "execute_result"
    }
   ],
   "source": [
    "df[df['W'] > 0]['Y']"
   ]
  },
  {
   "cell_type": "code",
   "execution_count": 68,
   "metadata": {},
   "outputs": [
    {
     "data": {
      "text/plain": "          Y         X\nB -0.031579 -0.156598\nC -0.755325 -0.610259\nD  0.558769 -0.479448",
      "text/html": "<div>\n<style scoped>\n    .dataframe tbody tr th:only-of-type {\n        vertical-align: middle;\n    }\n\n    .dataframe tbody tr th {\n        vertical-align: top;\n    }\n\n    .dataframe thead th {\n        text-align: right;\n    }\n</style>\n<table border=\"1\" class=\"dataframe\">\n  <thead>\n    <tr style=\"text-align: right;\">\n      <th></th>\n      <th>Y</th>\n      <th>X</th>\n    </tr>\n  </thead>\n  <tbody>\n    <tr>\n      <th>B</th>\n      <td>-0.031579</td>\n      <td>-0.156598</td>\n    </tr>\n    <tr>\n      <th>C</th>\n      <td>-0.755325</td>\n      <td>-0.610259</td>\n    </tr>\n    <tr>\n      <th>D</th>\n      <td>0.558769</td>\n      <td>-0.479448</td>\n    </tr>\n  </tbody>\n</table>\n</div>"
     },
     "execution_count": 68,
     "metadata": {},
     "output_type": "execute_result"
    }
   ],
   "source": [
    "df[df['W'] > 0]['Y X'.split()]"
   ]
  },
  {
   "cell_type": "markdown",
   "metadata": {},
   "source": [
    "Para duas condições, você pode usar | e & com parênteses:"
   ]
  },
  {
   "cell_type": "code",
   "execution_count": 72,
   "metadata": {},
   "outputs": [
    {
     "data": {
      "text/plain": "          W         X         Y         Z\nB  1.025984 -0.156598 -0.031579  0.649826\nC  2.154846 -0.610259 -0.755325 -0.346419",
      "text/html": "<div>\n<style scoped>\n    .dataframe tbody tr th:only-of-type {\n        vertical-align: middle;\n    }\n\n    .dataframe tbody tr th {\n        vertical-align: top;\n    }\n\n    .dataframe thead th {\n        text-align: right;\n    }\n</style>\n<table border=\"1\" class=\"dataframe\">\n  <thead>\n    <tr style=\"text-align: right;\">\n      <th></th>\n      <th>W</th>\n      <th>X</th>\n      <th>Y</th>\n      <th>Z</th>\n    </tr>\n  </thead>\n  <tbody>\n    <tr>\n      <th>B</th>\n      <td>1.025984</td>\n      <td>-0.156598</td>\n      <td>-0.031579</td>\n      <td>0.649826</td>\n    </tr>\n    <tr>\n      <th>C</th>\n      <td>2.154846</td>\n      <td>-0.610259</td>\n      <td>-0.755325</td>\n      <td>-0.346419</td>\n    </tr>\n  </tbody>\n</table>\n</div>"
     },
     "execution_count": 72,
     "metadata": {},
     "output_type": "execute_result"
    }
   ],
   "source": [
    "df[(df['Y'] < 0) & (df['W'] > 1)]"
   ]
  },
  {
   "cell_type": "code",
   "execution_count": 74,
   "outputs": [
    {
     "data": {
      "text/plain": "          W         X         Y         Z\nB  1.025984 -0.156598 -0.031579  0.649826\nC  2.154846 -0.610259 -0.755325 -0.346419",
      "text/html": "<div>\n<style scoped>\n    .dataframe tbody tr th:only-of-type {\n        vertical-align: middle;\n    }\n\n    .dataframe tbody tr th {\n        vertical-align: top;\n    }\n\n    .dataframe thead th {\n        text-align: right;\n    }\n</style>\n<table border=\"1\" class=\"dataframe\">\n  <thead>\n    <tr style=\"text-align: right;\">\n      <th></th>\n      <th>W</th>\n      <th>X</th>\n      <th>Y</th>\n      <th>Z</th>\n    </tr>\n  </thead>\n  <tbody>\n    <tr>\n      <th>B</th>\n      <td>1.025984</td>\n      <td>-0.156598</td>\n      <td>-0.031579</td>\n      <td>0.649826</td>\n    </tr>\n    <tr>\n      <th>C</th>\n      <td>2.154846</td>\n      <td>-0.610259</td>\n      <td>-0.755325</td>\n      <td>-0.346419</td>\n    </tr>\n  </tbody>\n</table>\n</div>"
     },
     "execution_count": 74,
     "metadata": {},
     "output_type": "execute_result"
    }
   ],
   "source": [
    "df.query('Y < 0 & W > 1')"
   ],
   "metadata": {
    "collapsed": false,
    "pycharm": {
     "name": "#%%\n"
    }
   }
  },
  {
   "cell_type": "markdown",
   "metadata": {},
   "source": [
    "## Mais Detalhes do Índice\n",
    "\n",
    "Vamos discutir mais alguns recursos de indexação, incluindo resetar o índice ou configurá-lo de outra forma. Também falaremos sobre hierarquia de índice!"
   ]
  },
  {
   "cell_type": "code",
   "execution_count": 75,
   "metadata": {},
   "outputs": [
    {
     "data": {
      "text/plain": "          W         X         Y         Z\nA -0.993263  0.196800 -1.136645  0.000366\nB  1.025984 -0.156598 -0.031579  0.649826\nC  2.154846 -0.610259 -0.755325 -0.346419\nD  0.147027 -0.479448  0.558769  1.024810\nE -0.925874  1.862864 -1.133817  0.610478",
      "text/html": "<div>\n<style scoped>\n    .dataframe tbody tr th:only-of-type {\n        vertical-align: middle;\n    }\n\n    .dataframe tbody tr th {\n        vertical-align: top;\n    }\n\n    .dataframe thead th {\n        text-align: right;\n    }\n</style>\n<table border=\"1\" class=\"dataframe\">\n  <thead>\n    <tr style=\"text-align: right;\">\n      <th></th>\n      <th>W</th>\n      <th>X</th>\n      <th>Y</th>\n      <th>Z</th>\n    </tr>\n  </thead>\n  <tbody>\n    <tr>\n      <th>A</th>\n      <td>-0.993263</td>\n      <td>0.196800</td>\n      <td>-1.136645</td>\n      <td>0.000366</td>\n    </tr>\n    <tr>\n      <th>B</th>\n      <td>1.025984</td>\n      <td>-0.156598</td>\n      <td>-0.031579</td>\n      <td>0.649826</td>\n    </tr>\n    <tr>\n      <th>C</th>\n      <td>2.154846</td>\n      <td>-0.610259</td>\n      <td>-0.755325</td>\n      <td>-0.346419</td>\n    </tr>\n    <tr>\n      <th>D</th>\n      <td>0.147027</td>\n      <td>-0.479448</td>\n      <td>0.558769</td>\n      <td>1.024810</td>\n    </tr>\n    <tr>\n      <th>E</th>\n      <td>-0.925874</td>\n      <td>1.862864</td>\n      <td>-1.133817</td>\n      <td>0.610478</td>\n    </tr>\n  </tbody>\n</table>\n</div>"
     },
     "execution_count": 75,
     "metadata": {},
     "output_type": "execute_result"
    }
   ],
   "source": [
    "df"
   ]
  },
  {
   "cell_type": "code",
   "execution_count": 76,
   "metadata": {},
   "outputs": [
    {
     "data": {
      "text/plain": "  index         W         X         Y         Z\n0     A -0.993263  0.196800 -1.136645  0.000366\n1     B  1.025984 -0.156598 -0.031579  0.649826\n2     C  2.154846 -0.610259 -0.755325 -0.346419\n3     D  0.147027 -0.479448  0.558769  1.024810\n4     E -0.925874  1.862864 -1.133817  0.610478",
      "text/html": "<div>\n<style scoped>\n    .dataframe tbody tr th:only-of-type {\n        vertical-align: middle;\n    }\n\n    .dataframe tbody tr th {\n        vertical-align: top;\n    }\n\n    .dataframe thead th {\n        text-align: right;\n    }\n</style>\n<table border=\"1\" class=\"dataframe\">\n  <thead>\n    <tr style=\"text-align: right;\">\n      <th></th>\n      <th>index</th>\n      <th>W</th>\n      <th>X</th>\n      <th>Y</th>\n      <th>Z</th>\n    </tr>\n  </thead>\n  <tbody>\n    <tr>\n      <th>0</th>\n      <td>A</td>\n      <td>-0.993263</td>\n      <td>0.196800</td>\n      <td>-1.136645</td>\n      <td>0.000366</td>\n    </tr>\n    <tr>\n      <th>1</th>\n      <td>B</td>\n      <td>1.025984</td>\n      <td>-0.156598</td>\n      <td>-0.031579</td>\n      <td>0.649826</td>\n    </tr>\n    <tr>\n      <th>2</th>\n      <td>C</td>\n      <td>2.154846</td>\n      <td>-0.610259</td>\n      <td>-0.755325</td>\n      <td>-0.346419</td>\n    </tr>\n    <tr>\n      <th>3</th>\n      <td>D</td>\n      <td>0.147027</td>\n      <td>-0.479448</td>\n      <td>0.558769</td>\n      <td>1.024810</td>\n    </tr>\n    <tr>\n      <th>4</th>\n      <td>E</td>\n      <td>-0.925874</td>\n      <td>1.862864</td>\n      <td>-1.133817</td>\n      <td>0.610478</td>\n    </tr>\n  </tbody>\n</table>\n</div>"
     },
     "execution_count": 76,
     "metadata": {},
     "output_type": "execute_result"
    }
   ],
   "source": [
    "# Redefinir para o padrão 0,1 ... n índice\n",
    "df.reset_index()"
   ]
  },
  {
   "cell_type": "code",
   "execution_count": 77,
   "metadata": {
    "collapsed": true
   },
   "outputs": [],
   "source": [
    "novoind = 'CA NY WY OR CO'.split()"
   ]
  },
  {
   "cell_type": "code",
   "execution_count": 78,
   "metadata": {
    "collapsed": true
   },
   "outputs": [],
   "source": [
    "df['Estados'] = novoind"
   ]
  },
  {
   "cell_type": "code",
   "execution_count": 79,
   "metadata": {},
   "outputs": [
    {
     "data": {
      "text/plain": "          W         X         Y         Z Estados\nA -0.993263  0.196800 -1.136645  0.000366      CA\nB  1.025984 -0.156598 -0.031579  0.649826      NY\nC  2.154846 -0.610259 -0.755325 -0.346419      WY\nD  0.147027 -0.479448  0.558769  1.024810      OR\nE -0.925874  1.862864 -1.133817  0.610478      CO",
      "text/html": "<div>\n<style scoped>\n    .dataframe tbody tr th:only-of-type {\n        vertical-align: middle;\n    }\n\n    .dataframe tbody tr th {\n        vertical-align: top;\n    }\n\n    .dataframe thead th {\n        text-align: right;\n    }\n</style>\n<table border=\"1\" class=\"dataframe\">\n  <thead>\n    <tr style=\"text-align: right;\">\n      <th></th>\n      <th>W</th>\n      <th>X</th>\n      <th>Y</th>\n      <th>Z</th>\n      <th>Estados</th>\n    </tr>\n  </thead>\n  <tbody>\n    <tr>\n      <th>A</th>\n      <td>-0.993263</td>\n      <td>0.196800</td>\n      <td>-1.136645</td>\n      <td>0.000366</td>\n      <td>CA</td>\n    </tr>\n    <tr>\n      <th>B</th>\n      <td>1.025984</td>\n      <td>-0.156598</td>\n      <td>-0.031579</td>\n      <td>0.649826</td>\n      <td>NY</td>\n    </tr>\n    <tr>\n      <th>C</th>\n      <td>2.154846</td>\n      <td>-0.610259</td>\n      <td>-0.755325</td>\n      <td>-0.346419</td>\n      <td>WY</td>\n    </tr>\n    <tr>\n      <th>D</th>\n      <td>0.147027</td>\n      <td>-0.479448</td>\n      <td>0.558769</td>\n      <td>1.024810</td>\n      <td>OR</td>\n    </tr>\n    <tr>\n      <th>E</th>\n      <td>-0.925874</td>\n      <td>1.862864</td>\n      <td>-1.133817</td>\n      <td>0.610478</td>\n      <td>CO</td>\n    </tr>\n  </tbody>\n</table>\n</div>"
     },
     "execution_count": 79,
     "metadata": {},
     "output_type": "execute_result"
    }
   ],
   "source": [
    "df"
   ]
  },
  {
   "cell_type": "code",
   "execution_count": 91,
   "metadata": {},
   "outputs": [
    {
     "ename": "KeyError",
     "evalue": "\"None of ['Estados'] are in the columns\"",
     "output_type": "error",
     "traceback": [
      "\u001B[1;31m---------------------------------------------------------------------------\u001B[0m",
      "\u001B[1;31mKeyError\u001B[0m                                  Traceback (most recent call last)",
      "\u001B[1;32m<ipython-input-91-8ab907892f51>\u001B[0m in \u001B[0;36m<module>\u001B[1;34m\u001B[0m\n\u001B[1;32m----> 1\u001B[1;33m \u001B[0mdf\u001B[0m\u001B[1;33m.\u001B[0m\u001B[0mset_index\u001B[0m\u001B[1;33m(\u001B[0m\u001B[1;34m'Estados'\u001B[0m\u001B[1;33m)\u001B[0m\u001B[1;33m.\u001B[0m\u001B[0minfo\u001B[0m\u001B[1;33m(\u001B[0m\u001B[1;33m)\u001B[0m\u001B[1;33m\u001B[0m\u001B[1;33m\u001B[0m\u001B[0m\n\u001B[0m\u001B[0;32m      2\u001B[0m \u001B[1;33m\u001B[0m\u001B[0m\n",
      "\u001B[1;32mc:\\users\\asakb\\pycharmprojects\\scientificproject\\venv\\lib\\site-packages\\pandas\\core\\frame.py\u001B[0m in \u001B[0;36mset_index\u001B[1;34m(self, keys, drop, append, inplace, verify_integrity)\u001B[0m\n\u001B[0;32m   4722\u001B[0m \u001B[1;33m\u001B[0m\u001B[0m\n\u001B[0;32m   4723\u001B[0m         \u001B[1;32mif\u001B[0m \u001B[0mmissing\u001B[0m\u001B[1;33m:\u001B[0m\u001B[1;33m\u001B[0m\u001B[1;33m\u001B[0m\u001B[0m\n\u001B[1;32m-> 4724\u001B[1;33m             \u001B[1;32mraise\u001B[0m \u001B[0mKeyError\u001B[0m\u001B[1;33m(\u001B[0m\u001B[1;34mf\"None of {missing} are in the columns\"\u001B[0m\u001B[1;33m)\u001B[0m\u001B[1;33m\u001B[0m\u001B[1;33m\u001B[0m\u001B[0m\n\u001B[0m\u001B[0;32m   4725\u001B[0m \u001B[1;33m\u001B[0m\u001B[0m\n\u001B[0;32m   4726\u001B[0m         \u001B[1;32mif\u001B[0m \u001B[0minplace\u001B[0m\u001B[1;33m:\u001B[0m\u001B[1;33m\u001B[0m\u001B[1;33m\u001B[0m\u001B[0m\n",
      "\u001B[1;31mKeyError\u001B[0m: \"None of ['Estados'] are in the columns\""
     ]
    }
   ],
   "source": [
    "df.set_index('Estados')"
   ]
  },
  {
   "cell_type": "code",
   "execution_count": 95,
   "metadata": {},
   "outputs": [
    {
     "data": {
      "text/plain": "                W         X         Y         Z\nEstados                                        \nCA      -0.993263  0.196800 -1.136645  0.000366\nNY       1.025984 -0.156598 -0.031579  0.649826\nWY       2.154846 -0.610259 -0.755325 -0.346419\nOR       0.147027 -0.479448  0.558769  1.024810\nCO      -0.925874  1.862864 -1.133817  0.610478",
      "text/html": "<div>\n<style scoped>\n    .dataframe tbody tr th:only-of-type {\n        vertical-align: middle;\n    }\n\n    .dataframe tbody tr th {\n        vertical-align: top;\n    }\n\n    .dataframe thead th {\n        text-align: right;\n    }\n</style>\n<table border=\"1\" class=\"dataframe\">\n  <thead>\n    <tr style=\"text-align: right;\">\n      <th></th>\n      <th>W</th>\n      <th>X</th>\n      <th>Y</th>\n      <th>Z</th>\n    </tr>\n    <tr>\n      <th>Estados</th>\n      <th></th>\n      <th></th>\n      <th></th>\n      <th></th>\n    </tr>\n  </thead>\n  <tbody>\n    <tr>\n      <th>CA</th>\n      <td>-0.993263</td>\n      <td>0.196800</td>\n      <td>-1.136645</td>\n      <td>0.000366</td>\n    </tr>\n    <tr>\n      <th>NY</th>\n      <td>1.025984</td>\n      <td>-0.156598</td>\n      <td>-0.031579</td>\n      <td>0.649826</td>\n    </tr>\n    <tr>\n      <th>WY</th>\n      <td>2.154846</td>\n      <td>-0.610259</td>\n      <td>-0.755325</td>\n      <td>-0.346419</td>\n    </tr>\n    <tr>\n      <th>OR</th>\n      <td>0.147027</td>\n      <td>-0.479448</td>\n      <td>0.558769</td>\n      <td>1.024810</td>\n    </tr>\n    <tr>\n      <th>CO</th>\n      <td>-0.925874</td>\n      <td>1.862864</td>\n      <td>-1.133817</td>\n      <td>0.610478</td>\n    </tr>\n  </tbody>\n</table>\n</div>"
     },
     "execution_count": 95,
     "metadata": {},
     "output_type": "execute_result"
    }
   ],
   "source": [
    "df"
   ]
  },
  {
   "cell_type": "code",
   "execution_count": 87,
   "metadata": {
    "collapsed": true
   },
   "outputs": [],
   "source": [
    "df.set_index('Estados',inplace=True)"
   ]
  },
  {
   "cell_type": "code",
   "execution_count": 96,
   "metadata": {},
   "outputs": [
    {
     "data": {
      "text/plain": "                W         X         Y         Z\nEstados                                        \nCA      -0.993263  0.196800 -1.136645  0.000366\nNY       1.025984 -0.156598 -0.031579  0.649826\nWY       2.154846 -0.610259 -0.755325 -0.346419\nOR       0.147027 -0.479448  0.558769  1.024810\nCO      -0.925874  1.862864 -1.133817  0.610478",
      "text/html": "<div>\n<style scoped>\n    .dataframe tbody tr th:only-of-type {\n        vertical-align: middle;\n    }\n\n    .dataframe tbody tr th {\n        vertical-align: top;\n    }\n\n    .dataframe thead th {\n        text-align: right;\n    }\n</style>\n<table border=\"1\" class=\"dataframe\">\n  <thead>\n    <tr style=\"text-align: right;\">\n      <th></th>\n      <th>W</th>\n      <th>X</th>\n      <th>Y</th>\n      <th>Z</th>\n    </tr>\n    <tr>\n      <th>Estados</th>\n      <th></th>\n      <th></th>\n      <th></th>\n      <th></th>\n    </tr>\n  </thead>\n  <tbody>\n    <tr>\n      <th>CA</th>\n      <td>-0.993263</td>\n      <td>0.196800</td>\n      <td>-1.136645</td>\n      <td>0.000366</td>\n    </tr>\n    <tr>\n      <th>NY</th>\n      <td>1.025984</td>\n      <td>-0.156598</td>\n      <td>-0.031579</td>\n      <td>0.649826</td>\n    </tr>\n    <tr>\n      <th>WY</th>\n      <td>2.154846</td>\n      <td>-0.610259</td>\n      <td>-0.755325</td>\n      <td>-0.346419</td>\n    </tr>\n    <tr>\n      <th>OR</th>\n      <td>0.147027</td>\n      <td>-0.479448</td>\n      <td>0.558769</td>\n      <td>1.024810</td>\n    </tr>\n    <tr>\n      <th>CO</th>\n      <td>-0.925874</td>\n      <td>1.862864</td>\n      <td>-1.133817</td>\n      <td>0.610478</td>\n    </tr>\n  </tbody>\n</table>\n</div>"
     },
     "execution_count": 96,
     "metadata": {},
     "output_type": "execute_result"
    }
   ],
   "source": [
    "df"
   ]
  },
  {
   "cell_type": "markdown",
   "metadata": {},
   "source": [
    "## Hierarquia de índices e índices múltiplos\n",
    "\n",
    "Vamos examinar como trabalhar com o Multi-Index, primeiro criaremos um exemplo rápido de como seria um DataFrame Multi-Indexado:"
   ]
  },
  {
   "cell_type": "code",
   "execution_count": 115,
   "metadata": {
    "collapsed": true
   },
   "outputs": [],
   "source": [
    "# Níveis de Índice\n",
    "outside = ['G1','G1','G1','G2','G2','G2']\n",
    "inside = [1,2,3,1,2,3]\n",
    "hier_index = list(zip(outside,inside))\n",
    "hier_index = pd.MultiIndex.from_tuples(hier_index)"
   ]
  },
  {
   "cell_type": "code",
   "execution_count": 116,
   "metadata": {},
   "outputs": [
    {
     "data": {
      "text/plain": "MultiIndex([('G1', 1),\n            ('G1', 2),\n            ('G1', 3),\n            ('G2', 1),\n            ('G2', 2),\n            ('G2', 3)],\n           )"
     },
     "execution_count": 116,
     "metadata": {},
     "output_type": "execute_result"
    }
   ],
   "source": [
    "hier_index"
   ]
  },
  {
   "cell_type": "code",
   "execution_count": 117,
   "metadata": {},
   "outputs": [
    {
     "data": {
      "text/plain": "             A         B\nG1 1 -0.380104 -1.666059\n   2 -2.736995  1.522562\n   3  0.178009 -0.626805\nG2 1 -0.391089  1.743477\n   2  1.130018  0.897796\n   3  0.330866 -1.063049",
      "text/html": "<div>\n<style scoped>\n    .dataframe tbody tr th:only-of-type {\n        vertical-align: middle;\n    }\n\n    .dataframe tbody tr th {\n        vertical-align: top;\n    }\n\n    .dataframe thead th {\n        text-align: right;\n    }\n</style>\n<table border=\"1\" class=\"dataframe\">\n  <thead>\n    <tr style=\"text-align: right;\">\n      <th></th>\n      <th></th>\n      <th>A</th>\n      <th>B</th>\n    </tr>\n  </thead>\n  <tbody>\n    <tr>\n      <th rowspan=\"3\" valign=\"top\">G1</th>\n      <th>1</th>\n      <td>-0.380104</td>\n      <td>-1.666059</td>\n    </tr>\n    <tr>\n      <th>2</th>\n      <td>-2.736995</td>\n      <td>1.522562</td>\n    </tr>\n    <tr>\n      <th>3</th>\n      <td>0.178009</td>\n      <td>-0.626805</td>\n    </tr>\n    <tr>\n      <th rowspan=\"3\" valign=\"top\">G2</th>\n      <th>1</th>\n      <td>-0.391089</td>\n      <td>1.743477</td>\n    </tr>\n    <tr>\n      <th>2</th>\n      <td>1.130018</td>\n      <td>0.897796</td>\n    </tr>\n    <tr>\n      <th>3</th>\n      <td>0.330866</td>\n      <td>-1.063049</td>\n    </tr>\n  </tbody>\n</table>\n</div>"
     },
     "execution_count": 117,
     "metadata": {},
     "output_type": "execute_result"
    }
   ],
   "source": [
    "df = pd.DataFrame(np.random.randn(6,2),index=hier_index,columns=['A','B'])\n",
    "df"
   ]
  },
  {
   "cell_type": "markdown",
   "metadata": {},
   "source": [
    "Agora vamos mostrar como indexar isso! Para a hierarquia de índice, usamos df.loc []. Se este fosse no eixo das colunas, você usaria a notação de suporte normal df []. Chamar um nível do índice retorna um sub-dataframe:"
   ]
  },
  {
   "cell_type": "code",
   "execution_count": 122,
   "metadata": {},
   "outputs": [
    {
     "data": {
      "text/plain": "          A         B\n1 -0.380104 -1.666059\n2 -2.736995  1.522562\n3  0.178009 -0.626805",
      "text/html": "<div>\n<style scoped>\n    .dataframe tbody tr th:only-of-type {\n        vertical-align: middle;\n    }\n\n    .dataframe tbody tr th {\n        vertical-align: top;\n    }\n\n    .dataframe thead th {\n        text-align: right;\n    }\n</style>\n<table border=\"1\" class=\"dataframe\">\n  <thead>\n    <tr style=\"text-align: right;\">\n      <th></th>\n      <th>A</th>\n      <th>B</th>\n    </tr>\n  </thead>\n  <tbody>\n    <tr>\n      <th>1</th>\n      <td>-0.380104</td>\n      <td>-1.666059</td>\n    </tr>\n    <tr>\n      <th>2</th>\n      <td>-2.736995</td>\n      <td>1.522562</td>\n    </tr>\n    <tr>\n      <th>3</th>\n      <td>0.178009</td>\n      <td>-0.626805</td>\n    </tr>\n  </tbody>\n</table>\n</div>"
     },
     "execution_count": 122,
     "metadata": {},
     "output_type": "execute_result"
    }
   ],
   "source": [
    "df.loc['G1']"
   ]
  },
  {
   "cell_type": "code",
   "execution_count": 124,
   "metadata": {},
   "outputs": [
    {
     "data": {
      "text/plain": "A   -0.380104\nB   -1.666059\nName: 1, dtype: float64"
     },
     "execution_count": 124,
     "metadata": {},
     "output_type": "execute_result"
    }
   ],
   "source": [
    "df.loc['G1'].loc[1]"
   ]
  },
  {
   "cell_type": "code",
   "execution_count": 125,
   "metadata": {},
   "outputs": [
    {
     "data": {
      "text/plain": "FrozenList([None, None])"
     },
     "execution_count": 125,
     "metadata": {},
     "output_type": "execute_result"
    }
   ],
   "source": [
    "df.index.names"
   ]
  },
  {
   "cell_type": "code",
   "execution_count": 126,
   "metadata": {
    "collapsed": true
   },
   "outputs": [],
   "source": [
    "df.index.names = 'Grupo Número'.split()"
   ]
  },
  {
   "cell_type": "code",
   "execution_count": 127,
   "metadata": {},
   "outputs": [
    {
     "data": {
      "text/plain": "                     A         B\nGrupo Número                    \nG1    1      -0.380104 -1.666059\n      2      -2.736995  1.522562\n      3       0.178009 -0.626805\nG2    1      -0.391089  1.743477\n      2       1.130018  0.897796\n      3       0.330866 -1.063049",
      "text/html": "<div>\n<style scoped>\n    .dataframe tbody tr th:only-of-type {\n        vertical-align: middle;\n    }\n\n    .dataframe tbody tr th {\n        vertical-align: top;\n    }\n\n    .dataframe thead th {\n        text-align: right;\n    }\n</style>\n<table border=\"1\" class=\"dataframe\">\n  <thead>\n    <tr style=\"text-align: right;\">\n      <th></th>\n      <th></th>\n      <th>A</th>\n      <th>B</th>\n    </tr>\n    <tr>\n      <th>Grupo</th>\n      <th>Número</th>\n      <th></th>\n      <th></th>\n    </tr>\n  </thead>\n  <tbody>\n    <tr>\n      <th rowspan=\"3\" valign=\"top\">G1</th>\n      <th>1</th>\n      <td>-0.380104</td>\n      <td>-1.666059</td>\n    </tr>\n    <tr>\n      <th>2</th>\n      <td>-2.736995</td>\n      <td>1.522562</td>\n    </tr>\n    <tr>\n      <th>3</th>\n      <td>0.178009</td>\n      <td>-0.626805</td>\n    </tr>\n    <tr>\n      <th rowspan=\"3\" valign=\"top\">G2</th>\n      <th>1</th>\n      <td>-0.391089</td>\n      <td>1.743477</td>\n    </tr>\n    <tr>\n      <th>2</th>\n      <td>1.130018</td>\n      <td>0.897796</td>\n    </tr>\n    <tr>\n      <th>3</th>\n      <td>0.330866</td>\n      <td>-1.063049</td>\n    </tr>\n  </tbody>\n</table>\n</div>"
     },
     "execution_count": 127,
     "metadata": {},
     "output_type": "execute_result"
    }
   ],
   "source": [
    "df"
   ]
  },
  {
   "cell_type": "code",
   "execution_count": 129,
   "metadata": {},
   "outputs": [
    {
     "data": {
      "text/plain": "               A         B\nNúmero                    \n1      -0.380104 -1.666059\n2      -2.736995  1.522562\n3       0.178009 -0.626805",
      "text/html": "<div>\n<style scoped>\n    .dataframe tbody tr th:only-of-type {\n        vertical-align: middle;\n    }\n\n    .dataframe tbody tr th {\n        vertical-align: top;\n    }\n\n    .dataframe thead th {\n        text-align: right;\n    }\n</style>\n<table border=\"1\" class=\"dataframe\">\n  <thead>\n    <tr style=\"text-align: right;\">\n      <th></th>\n      <th>A</th>\n      <th>B</th>\n    </tr>\n    <tr>\n      <th>Número</th>\n      <th></th>\n      <th></th>\n    </tr>\n  </thead>\n  <tbody>\n    <tr>\n      <th>1</th>\n      <td>-0.380104</td>\n      <td>-1.666059</td>\n    </tr>\n    <tr>\n      <th>2</th>\n      <td>-2.736995</td>\n      <td>1.522562</td>\n    </tr>\n    <tr>\n      <th>3</th>\n      <td>0.178009</td>\n      <td>-0.626805</td>\n    </tr>\n  </tbody>\n</table>\n</div>"
     },
     "execution_count": 129,
     "metadata": {},
     "output_type": "execute_result"
    }
   ],
   "source": [
    "df.xs('G1')"
   ]
  },
  {
   "cell_type": "code",
   "execution_count": 130,
   "metadata": {},
   "outputs": [
    {
     "data": {
      "text/plain": "A   -0.380104\nB   -1.666059\nName: (G1, 1), dtype: float64"
     },
     "execution_count": 130,
     "metadata": {},
     "output_type": "execute_result"
    }
   ],
   "source": [
    "df.xs(['G1',1])"
   ]
  },
  {
   "cell_type": "code",
   "execution_count": 131,
   "metadata": {},
   "outputs": [
    {
     "data": {
      "text/plain": "              A         B\nGrupo                    \nG1    -0.380104 -1.666059\nG2    -0.391089  1.743477",
      "text/html": "<div>\n<style scoped>\n    .dataframe tbody tr th:only-of-type {\n        vertical-align: middle;\n    }\n\n    .dataframe tbody tr th {\n        vertical-align: top;\n    }\n\n    .dataframe thead th {\n        text-align: right;\n    }\n</style>\n<table border=\"1\" class=\"dataframe\">\n  <thead>\n    <tr style=\"text-align: right;\">\n      <th></th>\n      <th>A</th>\n      <th>B</th>\n    </tr>\n    <tr>\n      <th>Grupo</th>\n      <th></th>\n      <th></th>\n    </tr>\n  </thead>\n  <tbody>\n    <tr>\n      <th>G1</th>\n      <td>-0.380104</td>\n      <td>-1.666059</td>\n    </tr>\n    <tr>\n      <th>G2</th>\n      <td>-0.391089</td>\n      <td>1.743477</td>\n    </tr>\n  </tbody>\n</table>\n</div>"
     },
     "execution_count": 131,
     "metadata": {},
     "output_type": "execute_result"
    }
   ],
   "source": [
    "df.xs(1,level='Número')"
   ]
  }
 ],
 "metadata": {
  "kernelspec": {
   "display_name": "Python 3",
   "language": "python",
   "name": "python3"
  },
  "language_info": {
   "codemirror_mode": {
    "name": "ipython",
    "version": 3
   },
   "file_extension": ".py",
   "mimetype": "text/x-python",
   "name": "python",
   "nbconvert_exporter": "python",
   "pygments_lexer": "ipython3",
   "version": "3.6.1"
  }
 },
 "nbformat": 4,
 "nbformat_minor": 1
}